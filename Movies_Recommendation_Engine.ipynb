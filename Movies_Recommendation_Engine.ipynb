{
 "cells": [
  {
   "cell_type": "markdown",
   "metadata": {
    "colab_type": "text",
    "id": "u_0oQaUOA9CI"
   },
   "source": [
    "# Task 1: Introduction\n",
    "\n",
    "![Movies Collage](https://i.imgur.com/T7V0VZ6.png)\n",
    "\n",
    "For this project we are going to create a recommendation engine for movies for users based on there past behaviour.\n",
    "\n",
    "---\n",
    "\n",
    "We will focus on the **collaborative filtering** approach, that is: \n",
    "\n",
    "The user is recommended items that people with similar tastes and preferences liked in the past. In another word, this method predicts unknown ratings by using the similarities between users.\n",
    "\n",
    "---\n",
    "\n",
    "Note: This notebook uses `python 3` and these packages: `pandas`, `numpy`, `matplotlib` and `scikit-surprise`\n",
    "\n",
    "We can install them using:\n",
    "```Shell\n",
    "pip3 install pandas matplotlib numpy scikit-surprise\n",
    "```"
   ]
  },
  {
   "cell_type": "markdown",
   "metadata": {
    "colab_type": "text",
    "id": "eMZcgcQsm-9y"
   },
   "source": [
    "## 1.1: Installing Libraries"
   ]
  },
  {
   "cell_type": "code",
   "execution_count": 1,
   "metadata": {
    "colab": {},
    "colab_type": "code",
    "id": "HNmYMKhCnITm"
   },
   "outputs": [
    {
     "name": "stdout",
     "output_type": "stream",
     "text": [
      ">> Installing Libraries\n",
      "Defaulting to user installation because normal site-packages is not writeable\n",
      "Requirement already satisfied: pandas in /home/rhyme/.local/lib/python3.6/site-packages (1.1.0)\n",
      "Requirement already satisfied: matplotlib in /home/rhyme/.local/lib/python3.6/site-packages (3.3.0)\n",
      "Requirement already satisfied: numpy in /home/rhyme/.local/lib/python3.6/site-packages (1.19.1)\n",
      "Requirement already satisfied: scikit-surprise in /home/rhyme/.local/lib/python3.6/site-packages (1.1.1)\n",
      "Requirement already satisfied: python-dateutil>=2.7.3 in /home/rhyme/.local/lib/python3.6/site-packages (from pandas) (2.8.1)\n",
      "Requirement already satisfied: pytz>=2017.2 in /home/rhyme/.local/lib/python3.6/site-packages (from pandas) (2020.1)\n",
      "Requirement already satisfied: cycler>=0.10 in /home/rhyme/.local/lib/python3.6/site-packages (from matplotlib) (0.10.0)\n",
      "Requirement already satisfied: pillow>=6.2.0 in /home/rhyme/.local/lib/python3.6/site-packages (from matplotlib) (7.2.0)\n",
      "Requirement already satisfied: pyparsing!=2.0.4,!=2.1.2,!=2.1.6,>=2.0.3 in /home/rhyme/.local/lib/python3.6/site-packages (from matplotlib) (2.4.7)\n",
      "Requirement already satisfied: kiwisolver>=1.0.1 in /home/rhyme/.local/lib/python3.6/site-packages (from matplotlib) (1.2.0)\n",
      "Requirement already satisfied: scipy>=1.0.0 in /home/rhyme/.local/lib/python3.6/site-packages (from scikit-surprise) (1.5.2)\n",
      "Requirement already satisfied: six>=1.10.0 in /usr/lib/python3/dist-packages (from scikit-surprise) (1.11.0)\n",
      "Requirement already satisfied: joblib>=0.11 in /home/rhyme/.local/lib/python3.6/site-packages (from scikit-surprise) (0.16.0)\n",
      "\u001b[33mWARNING: You are using pip version 20.2.1; however, version 20.2.2 is available.\n",
      "You should consider upgrading via the '/usr/bin/python3 -m pip install --upgrade pip' command.\u001b[0m\n",
      ">> Libraries Installed\n"
     ]
    }
   ],
   "source": [
    "print('>> Installing Libraries')\n",
    "!pip3 install pandas matplotlib numpy scikit-surprise\n",
    "\n",
    "\n",
    "\n",
    "print('>> Libraries Installed')"
   ]
  },
  {
   "cell_type": "markdown",
   "metadata": {
    "colab_type": "text",
    "id": "FYwbN6KqJjPo"
   },
   "source": [
    "## 1.2: Importing Libraries\n",
    "\n",
    "First of all, we will need to import some libraries. This includes surprise which we will use to create the recommendation system."
   ]
  },
  {
   "cell_type": "code",
   "execution_count": 2,
   "metadata": {
    "colab": {},
    "colab_type": "code",
    "id": "5OGYBAjxAzLC"
   },
   "outputs": [
    {
     "name": "stdout",
     "output_type": "stream",
     "text": [
      ">> Importing Libraries\n",
      ">> Libraries imported.\n"
     ]
    }
   ],
   "source": [
    "print('>> Importing Libraries')\n",
    "\n",
    "import pandas as pd\n",
    "\n",
    "from surprise import Reader, Dataset, SVD\n",
    "\n",
    "from surprise.accuracy import rmse, mae\n",
    "from surprise.model_selection import cross_validate\n",
    "\n",
    "print('>> Libraries imported.')"
   ]
  },
  {
   "cell_type": "markdown",
   "metadata": {
    "colab_type": "text",
    "id": "Zg9d8GR6A_rr"
   },
   "source": [
    "# Task 2: Importing Data\n",
    "\n",
    "We will use open-source dataset from GroupLens Research ([movielens.org](http://movielens.org))"
   ]
  },
  {
   "cell_type": "markdown",
   "metadata": {
    "colab_type": "text",
    "id": "vS0k5tdWKSfZ"
   },
   "source": [
    "## 2.1: Importing the Data\n",
    "\n",
    "The dataset is saved in a `ratings.csv` file. We will use pandas to take a look at some of the rows."
   ]
  },
  {
   "cell_type": "code",
   "execution_count": 3,
   "metadata": {
    "colab": {},
    "colab_type": "code",
    "id": "3lbOmdPwKsPm"
   },
   "outputs": [
    {
     "data": {
      "text/html": [
       "<div>\n",
       "<style scoped>\n",
       "    .dataframe tbody tr th:only-of-type {\n",
       "        vertical-align: middle;\n",
       "    }\n",
       "\n",
       "    .dataframe tbody tr th {\n",
       "        vertical-align: top;\n",
       "    }\n",
       "\n",
       "    .dataframe thead th {\n",
       "        text-align: right;\n",
       "    }\n",
       "</style>\n",
       "<table border=\"1\" class=\"dataframe\">\n",
       "  <thead>\n",
       "    <tr style=\"text-align: right;\">\n",
       "      <th></th>\n",
       "      <th>userId</th>\n",
       "      <th>movieId</th>\n",
       "      <th>rating</th>\n",
       "      <th>timestamp</th>\n",
       "    </tr>\n",
       "  </thead>\n",
       "  <tbody>\n",
       "    <tr>\n",
       "      <th>0</th>\n",
       "      <td>1</td>\n",
       "      <td>1</td>\n",
       "      <td>4.0</td>\n",
       "      <td>964982703</td>\n",
       "    </tr>\n",
       "    <tr>\n",
       "      <th>1</th>\n",
       "      <td>1</td>\n",
       "      <td>3</td>\n",
       "      <td>4.0</td>\n",
       "      <td>964981247</td>\n",
       "    </tr>\n",
       "    <tr>\n",
       "      <th>2</th>\n",
       "      <td>1</td>\n",
       "      <td>6</td>\n",
       "      <td>4.0</td>\n",
       "      <td>964982224</td>\n",
       "    </tr>\n",
       "    <tr>\n",
       "      <th>3</th>\n",
       "      <td>1</td>\n",
       "      <td>47</td>\n",
       "      <td>5.0</td>\n",
       "      <td>964983815</td>\n",
       "    </tr>\n",
       "    <tr>\n",
       "      <th>4</th>\n",
       "      <td>1</td>\n",
       "      <td>50</td>\n",
       "      <td>5.0</td>\n",
       "      <td>964982931</td>\n",
       "    </tr>\n",
       "  </tbody>\n",
       "</table>\n",
       "</div>"
      ],
      "text/plain": [
       "   userId  movieId  rating  timestamp\n",
       "0       1        1     4.0  964982703\n",
       "1       1        3     4.0  964981247\n",
       "2       1        6     4.0  964982224\n",
       "3       1       47     5.0  964983815\n",
       "4       1       50     5.0  964982931"
      ]
     },
     "execution_count": 3,
     "metadata": {},
     "output_type": "execute_result"
    }
   ],
   "source": [
    "df=pd.read_csv('ratings.csv')\n",
    "df.head()"
   ]
  },
  {
   "cell_type": "markdown",
   "metadata": {
    "colab_type": "text",
    "id": "GvUhDQIgLOEY"
   },
   "source": [
    "## 2.2 Dropping timestamp\n",
    "\n",
    "We won't be using the timestamp when user gave the particular rating. So we will drop that column."
   ]
  },
  {
   "cell_type": "code",
   "execution_count": 4,
   "metadata": {
    "colab": {},
    "colab_type": "code",
    "id": "TXvWh3duLjiP"
   },
   "outputs": [
    {
     "data": {
      "text/html": [
       "<div>\n",
       "<style scoped>\n",
       "    .dataframe tbody tr th:only-of-type {\n",
       "        vertical-align: middle;\n",
       "    }\n",
       "\n",
       "    .dataframe tbody tr th {\n",
       "        vertical-align: top;\n",
       "    }\n",
       "\n",
       "    .dataframe thead th {\n",
       "        text-align: right;\n",
       "    }\n",
       "</style>\n",
       "<table border=\"1\" class=\"dataframe\">\n",
       "  <thead>\n",
       "    <tr style=\"text-align: right;\">\n",
       "      <th></th>\n",
       "      <th>userId</th>\n",
       "      <th>movieId</th>\n",
       "      <th>rating</th>\n",
       "    </tr>\n",
       "  </thead>\n",
       "  <tbody>\n",
       "    <tr>\n",
       "      <th>0</th>\n",
       "      <td>1</td>\n",
       "      <td>1</td>\n",
       "      <td>4.0</td>\n",
       "    </tr>\n",
       "    <tr>\n",
       "      <th>1</th>\n",
       "      <td>1</td>\n",
       "      <td>3</td>\n",
       "      <td>4.0</td>\n",
       "    </tr>\n",
       "    <tr>\n",
       "      <th>2</th>\n",
       "      <td>1</td>\n",
       "      <td>6</td>\n",
       "      <td>4.0</td>\n",
       "    </tr>\n",
       "    <tr>\n",
       "      <th>3</th>\n",
       "      <td>1</td>\n",
       "      <td>47</td>\n",
       "      <td>5.0</td>\n",
       "    </tr>\n",
       "    <tr>\n",
       "      <th>4</th>\n",
       "      <td>1</td>\n",
       "      <td>50</td>\n",
       "      <td>5.0</td>\n",
       "    </tr>\n",
       "  </tbody>\n",
       "</table>\n",
       "</div>"
      ],
      "text/plain": [
       "   userId  movieId  rating\n",
       "0       1        1     4.0\n",
       "1       1        3     4.0\n",
       "2       1        6     4.0\n",
       "3       1       47     5.0\n",
       "4       1       50     5.0"
      ]
     },
     "execution_count": 4,
     "metadata": {},
     "output_type": "execute_result"
    }
   ],
   "source": [
    "df.drop('timestamp',axis=1,inplace=True)\n",
    "df.head()"
   ]
  },
  {
   "cell_type": "markdown",
   "metadata": {
    "colab_type": "text",
    "id": "OPEBn0gAK-5m"
   },
   "source": [
    "## 2.3 Check for Missing Data\n",
    "\n",
    "It's a good practice to check if the data has any missing values. In real world data, this is quite common and must be taken care of before any data pre-processing or model training."
   ]
  },
  {
   "cell_type": "code",
   "execution_count": 5,
   "metadata": {
    "colab": {},
    "colab_type": "code",
    "id": "BfBqk7KkLFV6"
   },
   "outputs": [
    {
     "data": {
      "text/plain": [
       "userId     0\n",
       "movieId    0\n",
       "rating     0\n",
       "dtype: int64"
      ]
     },
     "execution_count": 5,
     "metadata": {},
     "output_type": "execute_result"
    }
   ],
   "source": [
    "df.isna().sum()"
   ]
  },
  {
   "cell_type": "markdown",
   "metadata": {
    "colab_type": "text",
    "id": "FQYVA-J5MCUG"
   },
   "source": [
    "# Task 3: EDA (Exploratory data analysis)\n",
    "\n",
    "In statistics, exploratory data analysis is an approach to analyzing data sets to summarize their main characteristics."
   ]
  },
  {
   "cell_type": "markdown",
   "metadata": {
    "colab_type": "text",
    "id": "XJ0CD6ZiOpRI"
   },
   "source": [
    "## 3.1 Number of movies/users"
   ]
  },
  {
   "cell_type": "code",
   "execution_count": 6,
   "metadata": {
    "colab": {},
    "colab_type": "code",
    "id": "vnEIeAO6Psj2"
   },
   "outputs": [
    {
     "name": "stdout",
     "output_type": "stream",
     "text": [
      "Number of unique movies:9724\n",
      "Number of unique users:610\n"
     ]
    }
   ],
   "source": [
    "n_movies=df[\"movieId\"].nunique()\n",
    "n_users=df[\"userId\"].nunique()\n",
    "print(f'Number of unique movies:{n_movies}')\n",
    "print(f'Number of unique users:{n_users}')\n"
   ]
  },
  {
   "cell_type": "markdown",
   "metadata": {
    "colab_type": "text",
    "id": "dclqP0iXOo_F"
   },
   "source": [
    "## 3.2 Sparsity of our data\n",
    "\n",
    "Sparsity (%) = `(No of missing values/ (Total Values))X100`"
   ]
  },
  {
   "cell_type": "code",
   "execution_count": 7,
   "metadata": {
    "colab": {},
    "colab_type": "code",
    "id": "xPYF0zlfREMK"
   },
   "outputs": [
    {
     "name": "stdout",
     "output_type": "stream",
     "text": [
      "Sparsity:98.30003169443864\n"
     ]
    }
   ],
   "source": [
    "available_ratings=df['rating'].count()\n",
    "total_ratings=n_movies*n_users\n",
    "missing_ratings=total_ratings-available_ratings\n",
    "sparsity=(missing_ratings/total_ratings)*100\n",
    "print(f'Sparsity:{sparsity}')\n"
   ]
  },
  {
   "cell_type": "markdown",
   "metadata": {
    "colab_type": "text",
    "id": "kcYDLtG5Ok_p"
   },
   "source": [
    "## 3.3 Ratings Distribution"
   ]
  },
  {
   "cell_type": "code",
   "execution_count": 8,
   "metadata": {
    "colab": {},
    "colab_type": "code",
    "id": "ZO7Mv-jdL4_z"
   },
   "outputs": [
    {
     "name": "stderr",
     "output_type": "stream",
     "text": [
      "Matplotlib is building the font cache; this may take a moment.\n"
     ]
    },
    {
     "data": {
      "text/plain": [
       "<AxesSubplot:>"
      ]
     },
     "execution_count": 8,
     "metadata": {},
     "output_type": "execute_result"
    },
    {
     "data": {
      "image/png": "[encoded data removed]",
      "text/plain": [
       "<Figure size 432x288 with 1 Axes>"
      ]
     },
     "metadata": {
      "needs_background": "light"
     },
     "output_type": "display_data"
    }
   ],
   "source": [
    "df['rating'].value_counts().plot(kind='bar')"
   ]
  },
  {
   "cell_type": "markdown",
   "metadata": {
    "colab_type": "text",
    "id": "xdLsIItxSd9K"
   },
   "source": [
    "# Task 4: Dimensionality Reduction\n",
    "\n",
    "To reduce the dimensionality of the dataset, we will filter out rarely rated movies and rarely rating users"
   ]
  },
  {
   "cell_type": "markdown",
   "metadata": {
    "colab_type": "text",
    "id": "i3jYt3m5TNVL"
   },
   "source": [
    "## 4.1 Filter movies with less than 3 ratings"
   ]
  },
  {
   "cell_type": "code",
   "execution_count": 9,
   "metadata": {
    "colab": {},
    "colab_type": "code",
    "id": "msZU9YSxSeUo"
   },
   "outputs": [],
   "source": [
    "filter_movies=df['movieId'].value_counts()>3\n",
    "filter_movies= filter_movies[filter_movies].index.tolist()"
   ]
  },
  {
   "cell_type": "markdown",
   "metadata": {
    "colab_type": "text",
    "id": "IYaMxlXcTdGS"
   },
   "source": [
    "## 4.2 Filter users with less than 3 movies rated"
   ]
  },
  {
   "cell_type": "code",
   "execution_count": 11,
   "metadata": {
    "colab": {},
    "colab_type": "code",
    "id": "WPeNAggIS-Y_"
   },
   "outputs": [],
   "source": [
    "filter_users=df['userId'].value_counts()>3\n",
    "filter_users=filter_users[filter_users].index.tolist()"
   ]
  },
  {
   "cell_type": "markdown",
   "metadata": {
    "colab_type": "text",
    "id": "c2LFIAGXT3ro"
   },
   "source": [
    "## 4.3 Remove rarely rated movies and rarely rating users"
   ]
  },
  {
   "cell_type": "code",
   "execution_count": 15,
   "metadata": {
    "colab": {},
    "colab_type": "code",
    "id": "tTUG4ao6S_x7"
   },
   "outputs": [
    {
     "name": "stdout",
     "output_type": "stream",
     "text": [
      "New shape:(92394, 3)\n"
     ]
    }
   ],
   "source": [
    "\n",
    "df = df[(df['movieId'].isin(filter_movies)) & (df['userId'].isin(filter_users))]\n",
    "print(f'New shape:{df.shape}')\n"
   ]
  },
  {
   "cell_type": "markdown",
   "metadata": {
    "colab_type": "text",
    "id": "TbviZWiPM3jQ"
   },
   "source": [
    "# Task 5: Create Training and Test Sets"
   ]
  },
  {
   "cell_type": "markdown",
   "metadata": {
    "colab_type": "text",
    "id": "TIK2L0VuhbgA"
   },
   "source": [
    "## 5.1 Columns used for training"
   ]
  },
  {
   "cell_type": "code",
   "execution_count": 16,
   "metadata": {
    "colab": {},
    "colab_type": "code",
    "id": "bXF4dmJKhF7q"
   },
   "outputs": [],
   "source": [
    "cols=['userId','movieId','rating']"
   ]
  },
  {
   "cell_type": "markdown",
   "metadata": {
    "colab_type": "text",
    "id": "J8rylnJmUjYk"
   },
   "source": [
    "## 5.2 Create surprise dataset"
   ]
  },
  {
   "cell_type": "code",
   "execution_count": 17,
   "metadata": {
    "colab": {},
    "colab_type": "code",
    "id": "4UOTMUssM6Tw"
   },
   "outputs": [],
   "source": [
    "reader = Reader(rating_scale = (0.5,5))\n",
    "data = Dataset.load_from_df(df[cols],reader)"
   ]
  },
  {
   "cell_type": "markdown",
   "metadata": {
    "colab_type": "text",
    "id": "8lM--CdvguDz"
   },
   "source": [
    "## 5.3 Create Train-set and Prediction-set"
   ]
  },
  {
   "cell_type": "code",
   "execution_count": 18,
   "metadata": {
    "colab": {},
    "colab_type": "code",
    "id": "heITVvtvU1FD"
   },
   "outputs": [],
   "source": [
    "trainset = data.build_full_trainset()\n",
    "antiset = trainset.build_anti_testset()"
   ]
  },
  {
   "cell_type": "markdown",
   "metadata": {
    "colab_type": "text",
    "id": "AYfhHDReuO5h"
   },
   "source": [
    "# Task 6: Creating and training the model"
   ]
  },
  {
   "cell_type": "markdown",
   "metadata": {
    "colab_type": "text",
    "id": "R4e28tFHubv9"
   },
   "source": [
    "## 6.1 Creating the model\n",
    "\n",
    "**SVD (Singular Value Decomposition)**\n",
    "\n",
    "Interaction Matrix = A X B X C"
   ]
  },
  {
   "cell_type": "code",
   "execution_count": 19,
   "metadata": {
    "colab": {},
    "colab_type": "code",
    "id": "Ft4rS3L-hqeS"
   },
   "outputs": [],
   "source": [
    "algo=SVD(n_epochs=25 , verbose=True)"
   ]
  },
  {
   "cell_type": "markdown",
   "metadata": {
    "colab_type": "text",
    "id": "h_16sRpXwahF"
   },
   "source": [
    "## 6.2 Training the model\n",
    "\n",
    "**Mean Absolute Error (MAE)**: MAE measures the average magnitude of the errors in a set of predictions, without considering their direction. \n",
    "\n",
    "**Root mean squared error (RMSE)**:  RMSE is the square root of the average of squared differences between prediction and actual observation."
   ]
  },
  {
   "cell_type": "code",
   "execution_count": 20,
   "metadata": {
    "colab": {},
    "colab_type": "code",
    "id": "nh-E5DS5wYe_"
   },
   "outputs": [
    {
     "name": "stdout",
     "output_type": "stream",
     "text": [
      "Processing epoch 0\n",
      "Processing epoch 1\n",
      "Processing epoch 2\n",
      "Processing epoch 3\n",
      "Processing epoch 4\n",
      "Processing epoch 5\n",
      "Processing epoch 6\n",
      "Processing epoch 7\n",
      "Processing epoch 8\n",
      "Processing epoch 9\n",
      "Processing epoch 10\n",
      "Processing epoch 11\n",
      "Processing epoch 12\n",
      "Processing epoch 13\n",
      "Processing epoch 14\n",
      "Processing epoch 15\n",
      "Processing epoch 16\n",
      "Processing epoch 17\n",
      "Processing epoch 18\n",
      "Processing epoch 19\n",
      "Processing epoch 20\n",
      "Processing epoch 21\n",
      "Processing epoch 22\n",
      "Processing epoch 23\n",
      "Processing epoch 24\n",
      "Processing epoch 0\n",
      "Processing epoch 1\n",
      "Processing epoch 2\n",
      "Processing epoch 3\n",
      "Processing epoch 4\n",
      "Processing epoch 5\n",
      "Processing epoch 6\n",
      "Processing epoch 7\n",
      "Processing epoch 8\n",
      "Processing epoch 9\n",
      "Processing epoch 10\n",
      "Processing epoch 11\n",
      "Processing epoch 12\n",
      "Processing epoch 13\n",
      "Processing epoch 14\n",
      "Processing epoch 15\n",
      "Processing epoch 16\n",
      "Processing epoch 17\n",
      "Processing epoch 18\n",
      "Processing epoch 19\n",
      "Processing epoch 20\n",
      "Processing epoch 21\n",
      "Processing epoch 22\n",
      "Processing epoch 23\n",
      "Processing epoch 24\n",
      "Processing epoch 0\n",
      "Processing epoch 1\n",
      "Processing epoch 2\n",
      "Processing epoch 3\n",
      "Processing epoch 4\n",
      "Processing epoch 5\n",
      "Processing epoch 6\n",
      "Processing epoch 7\n",
      "Processing epoch 8\n",
      "Processing epoch 9\n",
      "Processing epoch 10\n",
      "Processing epoch 11\n",
      "Processing epoch 12\n",
      "Processing epoch 13\n",
      "Processing epoch 14\n",
      "Processing epoch 15\n",
      "Processing epoch 16\n",
      "Processing epoch 17\n",
      "Processing epoch 18\n",
      "Processing epoch 19\n",
      "Processing epoch 20\n",
      "Processing epoch 21\n",
      "Processing epoch 22\n",
      "Processing epoch 23\n",
      "Processing epoch 24\n",
      "Processing epoch 0\n",
      "Processing epoch 1\n",
      "Processing epoch 2\n",
      "Processing epoch 3\n",
      "Processing epoch 4\n",
      "Processing epoch 5\n",
      "Processing epoch 6\n",
      "Processing epoch 7\n",
      "Processing epoch 8\n",
      "Processing epoch 9\n",
      "Processing epoch 10\n",
      "Processing epoch 11\n",
      "Processing epoch 12\n",
      "Processing epoch 13\n",
      "Processing epoch 14\n",
      "Processing epoch 15\n",
      "Processing epoch 16\n",
      "Processing epoch 17\n",
      "Processing epoch 18\n",
      "Processing epoch 19\n",
      "Processing epoch 20\n",
      "Processing epoch 21\n",
      "Processing epoch 22\n",
      "Processing epoch 23\n",
      "Processing epoch 24\n",
      "Processing epoch 0\n",
      "Processing epoch 1\n",
      "Processing epoch 2\n",
      "Processing epoch 3\n",
      "Processing epoch 4\n",
      "Processing epoch 5\n",
      "Processing epoch 6\n",
      "Processing epoch 7\n",
      "Processing epoch 8\n",
      "Processing epoch 9\n",
      "Processing epoch 10\n",
      "Processing epoch 11\n",
      "Processing epoch 12\n",
      "Processing epoch 13\n",
      "Processing epoch 14\n",
      "Processing epoch 15\n",
      "Processing epoch 16\n",
      "Processing epoch 17\n",
      "Processing epoch 18\n",
      "Processing epoch 19\n",
      "Processing epoch 20\n",
      "Processing epoch 21\n",
      "Processing epoch 22\n",
      "Processing epoch 23\n",
      "Processing epoch 24\n",
      "Evaluating RMSE, MAE of algorithm SVD on 5 split(s).\n",
      "\n",
      "                  Fold 1  Fold 2  Fold 3  Fold 4  Fold 5  Mean    Std     \n",
      "RMSE (testset)    0.8549  0.8596  0.8674  0.8697  0.8628  0.8629  0.0053  \n",
      "MAE (testset)     0.6576  0.6584  0.6677  0.6656  0.6618  0.6622  0.0039  \n",
      "Fit time          5.59    5.39    5.72    5.68    5.92    5.66    0.17    \n",
      "Test time         0.14    0.35    0.23    0.27    0.15    0.23    0.08    \n",
      "Training done\n"
     ]
    }
   ],
   "source": [
    "cross_validate(algo,data,measures=['RMSE','MAE'],cv=5,verbose=True)\n",
    "print('Training done')"
   ]
  },
  {
   "cell_type": "markdown",
   "metadata": {
    "colab_type": "text",
    "id": "zTnqbNt_xkKS"
   },
   "source": [
    "# Task 7: Predictions"
   ]
  },
  {
   "cell_type": "markdown",
   "metadata": {
    "colab_type": "text",
    "id": "ma3oQr1Ax_Hg"
   },
   "source": [
    "## 7.1 Predict ratings for all pairs (user, items) that are NOT in the training set."
   ]
  },
  {
   "cell_type": "code",
   "execution_count": 21,
   "metadata": {
    "colab": {},
    "colab_type": "code",
    "id": "_K3EmIs3wxhW"
   },
   "outputs": [],
   "source": [
    "predictions = algo.test(antiset)"
   ]
  },
  {
   "cell_type": "code",
   "execution_count": 22,
   "metadata": {
    "colab": {},
    "colab_type": "code",
    "id": "RkqiEwM9z4Jf"
   },
   "outputs": [
    {
     "data": {
      "text/plain": [
       "Prediction(uid=1, iid=318, r_ui=3.529119856267723, est=5, details={'was_impossible': False})"
      ]
     },
     "execution_count": 22,
     "metadata": {},
     "output_type": "execute_result"
    }
   ],
   "source": [
    "predictions[0]"
   ]
  },
  {
   "cell_type": "markdown",
   "metadata": {
    "colab_type": "text",
    "id": "lRmzGn63ze8b"
   },
   "source": [
    "## 7.2 Recommending top 3 movies movies based on predictions"
   ]
  },
  {
   "cell_type": "code",
   "execution_count": 23,
   "metadata": {
    "colab": {},
    "colab_type": "code",
    "id": "q3Ugauv0119g"
   },
   "outputs": [
    {
     "name": "stdout",
     "output_type": "stream",
     "text": [
      "1 [318, 48516, 58559]\n",
      "2 [1276, 1217, 1204]\n",
      "3 [56782, 3275, 4034]\n",
      "4 [5952, 3147, 177593]\n",
      "5 [898, 904, 1233]\n",
      "6 [1203, 44195, 177593]\n",
      "7 [898, 838, 541]\n",
      "8 [2959, 858, 904]\n",
      "9 [1204, 1258, 3147]\n",
      "10 [2398, 5060, 1225]\n",
      "11 [1221, 177593, 58559]\n",
      "12 [356, 527, 1089]\n",
      "13 [750, 2959, 7153]\n",
      "14 [1204, 1208, 541]\n",
      "15 [1242, 608, 1197]\n",
      "16 [898, 910, 44195]\n",
      "17 [1204, 1199, 246]\n",
      "18 [750, 2858, 898]\n",
      "19 [4973, 858, 1221]\n",
      "20 [1080, 2716, 1207]\n",
      "21 [5690, 1204, 2791]\n",
      "22 [2019, 57669, 71899]\n",
      "23 [1204, 1261, 3972]\n",
      "24 [750, 904, 912]\n",
      "25 [1197, 2959, 318]\n",
      "26 [1204, 527, 1258]\n",
      "27 [1204, 858, 1080]\n",
      "28 [1261, 3703, 1203]\n",
      "29 [1237, 177593, 3275]\n",
      "30 [50, 1206, 68157]\n",
      "31 [318, 778, 1225]\n",
      "32 [904, 858, 356]\n",
      "33 [4226, 6807, 898]\n",
      "34 [2398, 1148, 1261]\n",
      "35 [858, 1148, 1221]\n",
      "36 [750, 858, 2959]\n",
      "37 [750, 1204, 1198]\n",
      "38 [1204, 1041, 7361]\n",
      "39 [1237, 3949, 1201]\n",
      "40 [858, 1276, 36]\n",
      "41 [1204, 4995, 3468]\n",
      "42 [1252, 2324, 2160]\n",
      "43 [6, 50, 593]\n",
      "44 [1204, 1283, 27773]\n",
      "45 [2160, 1204, 1251]\n",
      "46 [2959, 3703, 1204]\n",
      "47 [1204, 866, 1250]\n",
      "48 [898, 6377, 2959]\n",
      "49 [1198, 951, 898]\n",
      "50 [246, 3147, 7361]\n",
      "51 [296, 1089, 1222]\n",
      "52 [750, 44195, 912]\n",
      "53 [6, 47, 50]\n",
      "54 [56782, 246, 1204]\n",
      "55 [47, 296, 318]\n",
      "56 [2788, 898, 1267]\n",
      "57 [4973, 1732, 3996]\n",
      "58 [2692, 1225, 778]\n",
      "59 [318, 4973, 2959]\n",
      "60 [904, 898, 750]\n",
      "61 [2959, 55118, 750]\n",
      "62 [2324, 1172, 1136]\n",
      "63 [541, 1212, 1258]\n",
      "64 [750, 1199, 904]\n",
      "65 [1204, 1197, 898]\n",
      "66 [904, 858, 1199]\n",
      "67 [4973, 246, 922]\n",
      "68 [916, 3972, 106642]\n",
      "69 [3949, 904, 4226]\n",
      "70 [1204, 912, 1284]\n",
      "71 [3468, 1035, 1237]\n",
      "72 [2324, 1136, 1215]\n",
      "73 [2959, 1258, 904]\n",
      "74 [750, 1213, 912]\n",
      "75 [1028, 1225, 898]\n",
      "76 [50, 7361, 1223]\n",
      "77 [1204, 898, 1276]\n",
      "78 [1196, 1136, 2959]\n",
      "79 [912, 527, 1198]\n",
      "80 [898, 904, 1215]\n",
      "81 [1204, 2959, 750]\n",
      "82 [1035, 1222, 3468]\n",
      "83 [1197, 778, 908]\n",
      "84 [750, 4973, 7361]\n",
      "85 [916, 1204, 750]\n",
      "86 [750, 1204, 44195]\n",
      "87 [56782, 2959, 1213]\n",
      "88 [858, 2959, 1213]\n",
      "89 [1261, 5418, 177593]\n",
      "90 [110, 2959, 1303]\n",
      "91 [79132, 2858, 1252]\n",
      "92 [3275, 56782, 3468]\n",
      "93 [47, 1136, 1197]\n",
      "94 [527, 2959, 541]\n",
      "95 [2324, 750, 318]\n",
      "96 [3429, 904, 356]\n",
      "97 [1204, 318, 50]\n",
      "98 [1204, 1267, 1228]\n",
      "99 [3972, 68157, 750]\n",
      "100 [246, 2160, 1204]\n",
      "101 [750, 1204, 541]\n",
      "102 [4973, 858, 741]\n",
      "103 [4878, 1223, 3275]\n",
      "104 [912, 5992, 318]\n",
      "105 [246, 4967, 951]\n",
      "106 [260, 296, 2959]\n",
      "107 [1203, 1233, 3671]\n",
      "108 [593, 1198, 1089]\n",
      "109 [4973, 1673, 1204]\n",
      "110 [4226, 904, 318]\n",
      "111 [1193, 1262, 49272]\n",
      "112 [3578, 2324, 94959]\n",
      "113 [318, 527, 541]\n",
      "114 [1261, 1213, 56782]\n",
      "115 [5952, 356, 1233]\n",
      "116 [1196, 1204, 951]\n",
      "117 [1204, 904, 910]\n",
      "118 [318, 4973, 1204]\n",
      "119 [1261, 1204, 1267]\n",
      "120 [1276, 904, 541]\n",
      "121 [2959, 1221, 4011]\n",
      "122 [527, 2858, 3147]\n",
      "123 [56782, 246, 912]\n",
      "124 [750, 4973, 1221]\n",
      "125 [541, 2019, 1267]\n",
      "126 [260, 916, 56782]\n",
      "127 [2959, 318, 858]\n",
      "128 [750, 1250, 1204]\n",
      "129 [318, 750, 112552]\n",
      "130 [541, 3703, 1204]\n",
      "131 [750, 1204, 904]\n",
      "132 [527, 750, 1199]\n",
      "133 [1204, 1197, 912]\n",
      "134 [912, 898, 1204]\n",
      "135 [904, 89904, 356]\n",
      "136 [3972, 3916, 1233]\n",
      "137 [3468, 177593, 1261]\n",
      "138 [1204, 527, 106642]\n",
      "139 [898, 7371, 3468]\n",
      "140 [177593, 84152, 45722]\n",
      "141 [1237, 898, 951]\n",
      "142 [1204, 318, 750]\n",
      "143 [69481, 2398, 750]\n",
      "144 [1204, 908, 898]\n",
      "145 [1204, 3468, 2160]\n",
      "146 [541, 898, 858]\n",
      "147 [318, 800, 3275]\n",
      "148 [318, 1210, 260]\n",
      "149 [904, 926, 898]\n",
      "150 [1136, 1148, 7153]\n",
      "151 [1204, 260, 1210]\n",
      "152 [1204, 4973, 912]\n",
      "153 [5952, 4993, 1276]\n",
      "154 [2028, 2959, 898]\n",
      "155 [904, 951, 318]\n",
      "156 [527, 2959, 1261]\n",
      "157 [318, 858, 912]\n",
      "158 [1089, 260, 1204]\n",
      "159 [1267, 177593, 922]\n",
      "160 [318, 1276, 81845]\n",
      "161 [1193, 2019, 5690]\n",
      "162 [904, 1247, 27773]\n",
      "163 [1203, 1262, 858]\n",
      "164 [2571, 1204, 3275]\n",
      "165 [1204, 904, 1225]\n",
      "166 [1204, 750, 77455]\n",
      "167 [44195, 1270, 5618]\n",
      "168 [1204, 260, 1673]\n",
      "169 [1198, 1240, 1617]\n",
      "170 [56782, 3578, 1276]\n",
      "171 [50, 527, 923]\n",
      "172 [318, 4973, 1204]\n",
      "173 [858, 912, 1258]\n",
      "174 [1283, 318, 1204]\n",
      "175 [750, 2959, 1617]\n",
      "176 [1204, 2959, 7361]\n",
      "177 [4973, 1303, 1234]\n",
      "178 [1204, 1208, 2324]\n",
      "179 [260, 1196, 7153]\n",
      "180 [1204, 296, 912]\n",
      "181 [2160, 1233, 1704]\n",
      "182 [3088, 2324, 3213]\n",
      "183 [3147, 910, 1204]\n",
      "184 [318, 1204, 2959]\n",
      "185 [318, 3083, 260]\n",
      "186 [356, 912, 3703]\n",
      "187 [1178, 904, 3147]\n",
      "188 [1208, 318, 908]\n",
      "189 [1204, 1952, 904]\n",
      "190 [1204, 3147, 926]\n",
      "191 [1221, 858, 1089]\n",
      "192 [1089, 1210, 1262]\n",
      "193 [7371, 1278, 904]\n",
      "194 [1204, 912, 750]\n",
      "195 [56782, 89904, 541]\n",
      "196 [318, 541, 2959]\n",
      "197 [912, 750, 1136]\n",
      "198 [106642, 919, 1136]\n",
      "199 [1248, 1221, 1252]\n",
      "200 [177593, 1204, 2194]\n",
      "201 [1208, 2959, 1267]\n",
      "202 [898, 5690, 1193]\n",
      "203 [1221, 527, 1204]\n",
      "204 [1197, 318, 1258]\n",
      "205 [904, 162, 246]\n",
      "206 [1276, 858, 318]\n",
      "207 [2959, 1213, 912]\n",
      "208 [318, 1213, 1204]\n",
      "209 [750, 1206, 1089]\n",
      "210 [1204, 1261, 8132]\n",
      "211 [750, 1204, 2324]\n",
      "212 [912, 1204, 4973]\n",
      "213 [1204, 2959, 1704]\n",
      "214 [904, 1259, 110]\n",
      "215 [246, 1204, 858]\n",
      "216 [1204, 904, 246]\n",
      "217 [56782, 1204, 74458]\n",
      "218 [1199, 2959, 48516]\n",
      "219 [91529, 79132, 1222]\n",
      "220 [3037, 3275, 2858]\n",
      "221 [741, 5952, 4993]\n",
      "222 [318, 1197, 750]\n",
      "223 [2959, 898, 1225]\n",
      "224 [912, 750, 1193]\n",
      "225 [318, 1199, 1223]\n",
      "226 [318, 2019, 858]\n",
      "227 [1262, 1035, 1193]\n",
      "228 [898, 33166, 1203]\n",
      "229 [858, 4973, 2959]\n",
      "230 [1204, 908, 5992]\n",
      "231 [318, 1222, 2160]\n",
      "232 [1213, 1089, 1221]\n",
      "233 [260, 5618, 1196]\n",
      "234 [1617, 750, 527]\n",
      "235 [1245, 908, 2329]\n",
      "236 [898, 1204, 58559]\n",
      "237 [541, 246, 1196]\n",
      "238 [527, 3972, 1276]\n",
      "239 [56782, 2019, 898]\n",
      "240 [1204, 3275, 177593]\n",
      "241 [912, 750, 2019]\n",
      "242 [858, 1208, 912]\n",
      "243 [1213, 1219, 3578]\n",
      "244 [4973, 933, 1221]\n",
      "245 [4993, 1204, 260]\n",
      "246 [1204, 1213, 1198]\n",
      "247 [904, 1204, 1199]\n",
      "248 [1204, 898, 750]\n",
      "249 [1136, 1204, 1233]\n",
      "250 [593, 48516, 912]\n",
      "251 [1213, 2019, 750]\n",
      "252 [68954, 912, 1270]\n",
      "253 [1204, 3147, 1213]\n",
      "254 [541, 750, 6]\n",
      "255 [778, 48780, 2692]\n",
      "256 [74458, 98491, 58559]\n",
      "257 [1704, 47, 3671]\n",
      "258 [296, 1204, 475]\n",
      "259 [1204, 541, 933]\n",
      "260 [1204, 899, 1221]\n",
      "261 [2959, 1136, 904]\n",
      "262 [1204, 2959, 1199]\n",
      "263 [951, 1206, 1198]\n",
      "264 [898, 910, 750]\n",
      "265 [527, 1136, 4973]\n",
      "266 [1204, 68237, 1945]\n",
      "267 [318, 1219, 78499]\n",
      "268 [4993, 1952, 1041]\n",
      "269 [260, 1204, 1276]\n",
      "270 [5618, 1250, 246]\n",
      "271 [1204, 1136, 356]\n",
      "272 [1204, 916, 2788]\n",
      "273 [904, 541, 1204]\n",
      "274 [1204, 99114, 109374]\n",
      "275 [5673, 3949, 8874]\n",
      "276 [47, 1136, 1213]\n",
      "277 [1136, 2028, 3275]\n",
      "278 [1204, 1617, 904]\n",
      "279 [1223, 1204, 1089]\n",
      "280 [318, 2959, 7361]\n",
      "281 [912, 318, 6016]\n",
      "282 [1204, 899, 92259]\n",
      "283 [1204, 1261, 912]\n",
      "284 [1196, 1198, 858]\n",
      "285 [1250, 177593, 593]\n",
      "286 [750, 741, 608]\n",
      "287 [296, 1276, 7361]\n",
      "288 [246, 4973, 48516]\n",
      "289 [318, 356, 1201]\n",
      "290 [3468, 5690, 1732]\n",
      "291 [246, 1204, 1136]\n",
      "292 [1204, 142488, 916]\n",
      "293 [3468, 912, 933]\n",
      "294 [2019, 3429, 904]\n",
      "295 [904, 260, 7371]\n",
      "296 [2019, 904, 1288]\n",
      "297 [296, 4973, 858]\n",
      "298 [2028, 1233, 2324]\n",
      "299 [912, 1035, 1193]\n",
      "300 [1261, 1204, 750]\n",
      "301 [2959, 858, 778]\n",
      "302 [2959, 750, 1258]\n",
      "303 [1673, 1193, 7153]\n",
      "304 [1204, 904, 162]\n",
      "305 [1288, 1204, 1212]\n",
      "306 [1204, 912, 951]\n",
      "307 [4973, 89904, 2324]\n",
      "308 [910, 3972, 81834]\n",
      "309 [1237, 858, 1136]\n",
      "310 [1617, 1206, 4878]\n",
      "311 [1204, 4973, 58559]\n",
      "312 [1276, 4973, 318]\n",
      "313 [1673, 8950, 4720]\n",
      "314 [1204, 5690, 904]\n",
      "315 [1230, 858, 2959]\n",
      "316 [318, 1193, 1221]\n",
      "317 [5952, 1246, 1204]\n",
      "318 [1204, 1258, 3275]\n",
      "319 [5690, 750, 177593]\n",
      "320 [750, 296, 1204]\n",
      "321 [260, 318, 56782]\n",
      "322 [1204, 951, 162]\n",
      "323 [912, 1178, 1223]\n",
      "324 [750, 1217, 318]\n",
      "325 [750, 913, 1206]\n",
      "326 [1203, 177593, 3671]\n",
      "327 [177593, 5690, 1204]\n",
      "328 [1204, 2067, 928]\n",
      "329 [1204, 5690, 1225]\n",
      "330 [4973, 912, 1221]\n",
      "331 [2858, 2324, 1221]\n",
      "332 [720, 898, 1262]\n",
      "333 [1197, 1198, 2959]\n",
      "334 [1204, 1233, 1148]\n",
      "335 [1204, 48516, 1198]\n",
      "336 [1204, 1233, 720]\n",
      "337 [457, 1089, 1198]\n",
      "338 [1204, 58559, 1250]\n",
      "339 [1223, 1172, 1204]\n",
      "340 [56782, 3671, 1198]\n",
      "341 [1204, 908, 2324]\n",
      "342 [4993, 7153, 1204]\n",
      "343 [778, 4973, 1204]\n",
      "344 [1148, 1, 912]\n",
      "345 [318, 2959, 6016]\n",
      "346 [898, 1272, 1387]\n",
      "347 [1204, 1198, 246]\n",
      "348 [3147, 908, 2150]\n",
      "349 [2571, 2959, 1261]\n",
      "350 [318, 58559, 1204]\n",
      "351 [904, 3578, 1394]\n",
      "352 [5618, 80906, 1201]\n",
      "353 [750, 48516, 1276]\n",
      "354 [926, 2160, 1237]\n",
      "355 [2959, 2571, 246]\n",
      "356 [527, 1204, 899]\n",
      "357 [904, 162, 1261]\n",
      "358 [356, 318, 898]\n",
      "359 [908, 1204, 926]\n",
      "360 [318, 750, 858]\n",
      "361 [246, 1204, 5690]\n",
      "362 [1204, 912, 3468]\n",
      "363 [527, 356, 912]\n",
      "364 [750, 1673, 1261]\n",
      "365 [158966, 3468, 908]\n",
      "366 [318, 1204, 1196]\n",
      "367 [3147, 908, 1873]\n",
      "368 [1203, 1204, 5618]\n",
      "369 [1204, 2324, 922]\n",
      "370 [1267, 2160, 56782]\n",
      "371 [296, 923, 1196]\n",
      "372 [2571, 1193, 2762]\n",
      "373 [4973, 1221, 858]\n",
      "374 [904, 3468, 1242]\n",
      "375 [858, 1219, 1204]\n",
      "376 [904, 74458, 56782]\n",
      "377 [3508, 4973, 1212]\n",
      "378 [1204, 750, 3275]\n",
      "379 [3508, 912, 79132]\n",
      "380 [2019, 1262, 1243]\n",
      "381 [1148, 1225, 1203]\n",
      "382 [4973, 1258, 1136]\n",
      "383 [1204, 318, 1193]\n",
      "384 [1221, 541, 1208]\n",
      "385 [904, 1732, 1250]\n",
      "386 [1204, 3147, 1225]\n",
      "387 [527, 7361, 2788]\n",
      "388 [1223, 318, 4226]\n",
      "389 [2959, 904, 1261]\n",
      "390 [904, 2028, 1204]\n",
      "391 [899, 1276, 1084]\n",
      "392 [858, 1219, 750]\n",
      "393 [2692, 741, 1287]\n",
      "394 [1250, 7361, 111]\n",
      "395 [44195, 1204, 54997]\n",
      "396 [7361, 308, 904]\n",
      "397 [904, 898, 2959]\n",
      "398 [541, 2959, 1204]\n",
      "399 [1204, 177593, 78499]\n",
      "400 [1204, 904, 1136]\n",
      "401 [858, 1089, 904]\n",
      "402 [1196, 1261, 1210]\n",
      "403 [904, 318, 2959]\n",
      "404 [1204, 246, 44195]\n",
      "405 [1204, 2160, 898]\n",
      "406 [541, 1204, 2692]\n",
      "407 [912, 177593, 318]\n",
      "408 [162, 80906, 1225]\n",
      "409 [1208, 50, 1617]\n",
      "410 [1204, 930, 898]\n",
      "411 [1204, 1267, 4973]\n",
      "412 [260, 58559, 4993]\n",
      "413 [1089, 1028, 2565]\n",
      "414 [2324, 1086, 3083]\n",
      "415 [912, 4973, 1089]\n",
      "416 [1276, 541, 3147]\n",
      "417 [1276, 1228, 1217]\n",
      "418 [5618, 110, 44191]\n",
      "419 [541, 923, 29]\n",
      "420 [1204, 1089, 912]\n",
      "421 [4973, 858, 50]\n",
      "422 [1204, 1197, 246]\n",
      "423 [904, 858, 1673]\n",
      "424 [1617, 904, 4973]\n",
      "425 [1193, 1204, 898]\n",
      "426 [1270, 916, 926]\n",
      "427 [2959, 318, 858]\n",
      "428 [50, 858, 318]\n",
      "429 [593, 904, 1204]\n",
      "430 [296, 3468, 2959]\n",
      "431 [858, 750, 1221]\n",
      "432 [750, 1204, 1247]\n",
      "433 [1204, 1136, 77455]\n",
      "434 [1221, 2019, 1198]\n",
      "435 [4973, 27773, 778]\n",
      "436 [899, 858, 260]\n",
      "437 [2959, 1221, 58559]\n",
      "438 [1198, 1221, 1262]\n",
      "439 [1213, 858, 2959]\n",
      "440 [2959, 318, 904]\n",
      "441 [1206, 750, 800]\n",
      "442 [356, 1204, 1136]\n",
      "443 [1204, 1210, 912]\n",
      "444 [1221, 2804, 858]\n",
      "445 [1089, 858, 318]\n",
      "446 [1204, 904, 318]\n",
      "447 [3468, 1035, 750]\n",
      "448 [1267, 318, 898]\n",
      "449 [1258, 356, 1267]\n",
      "450 [2160, 750, 912]\n",
      "451 [750, 318, 541]\n",
      "452 [50, 593, 1213]\n",
      "453 [54997, 1208, 6016]\n",
      "454 [858, 1204, 898]\n",
      "455 [912, 246, 2791]\n",
      "456 [56782, 912, 908]\n",
      "457 [904, 1204, 908]\n",
      "458 [800, 912, 1276]\n",
      "459 [356, 908, 1212]\n",
      "460 [4973, 904, 50]\n",
      "461 [4973, 904, 750]\n",
      "462 [1253, 56782, 1282]\n",
      "463 [260, 177593, 898]\n",
      "464 [3275, 1035, 951]\n",
      "465 [1204, 318, 1201]\n",
      "466 [1204, 3468, 4973]\n",
      "467 [858, 318, 296]\n",
      "468 [1204, 904, 527]\n",
      "469 [4973, 2959, 79132]\n",
      "470 [904, 38038, 912]\n",
      "471 [898, 260, 38061]\n",
      "472 [1204, 1952, 750]\n",
      "473 [1204, 2324, 720]\n",
      "474 [800, 8132, 69481]\n",
      "475 [457, 1197, 1213]\n",
      "476 [912, 1204, 904]\n",
      "477 [3147, 866, 2959]\n",
      "478 [858, 912, 922]\n",
      "479 [541, 923, 1225]\n",
      "480 [899, 750, 912]\n",
      "481 [318, 912, 2019]\n",
      "482 [2360, 293, 1197]\n",
      "483 [541, 3910, 4878]\n",
      "484 [1270, 3508, 46578]\n",
      "485 [912, 1196, 177593]\n",
      "486 [912, 71899, 904]\n",
      "487 [541, 4226, 3949]\n",
      "488 [1204, 296, 858]\n",
      "489 [89904, 1945, 223]\n",
      "490 [2324, 318, 47]\n",
      "491 [318, 1204, 2959]\n",
      "492 [1204, 246, 5690]\n",
      "493 [318, 48516, 899]\n",
      "494 [1206, 79132, 1213]\n",
      "495 [1136, 1196, 1197]\n",
      "496 [44195, 3468, 750]\n",
      "497 [1204, 1267, 912]\n",
      "498 [2160, 3037, 1204]\n",
      "499 [318, 3578, 1198]\n",
      "500 [858, 1213, 926]\n",
      "501 [1089, 2959, 1261]\n",
      "502 [2959, 750, 3275]\n",
      "503 [1204, 48780, 1252]\n",
      "504 [527, 1221, 2858]\n",
      "505 [1204, 951, 4993]\n",
      "506 [858, 1204, 50]\n",
      "507 [318, 933, 1267]\n",
      "508 [1178, 4973, 910]\n",
      "509 [904, 1204, 1217]\n",
      "510 [899, 1204, 475]\n",
      "511 [858, 1237, 912]\n",
      "512 [1221, 2959, 1704]\n",
      "513 [2959, 1, 1204]\n",
      "514 [318, 1242, 3429]\n",
      "515 [1213, 1258, 475]\n",
      "516 [296, 2959, 2571]\n",
      "517 [2706, 2692, 2467]\n",
      "518 [318, 1204, 4226]\n",
      "519 [1136, 4973, 5690]\n",
      "520 [475, 2324, 527]\n",
      "521 [260, 750, 1272]\n",
      "522 [293, 4973, 1225]\n",
      "523 [50, 110, 260]\n",
      "524 [2571, 162, 898]\n",
      "525 [1089, 1258, 1237]\n",
      "526 [1204, 912, 750]\n",
      "527 [1203, 4993, 7153]\n",
      "528 [2028, 3275, 6620]\n",
      "529 [541, 1196, 589]\n",
      "530 [1204, 5690, 1267]\n",
      "531 [858, 2329, 56782]\n",
      "532 [3275, 904, 1261]\n",
      "533 [541, 750, 1237]\n",
      "534 [56782, 3266, 898]\n",
      "535 [2959, 1617, 6016]\n",
      "536 [318, 2398, 4226]\n",
      "537 [750, 1193, 1281]\n",
      "538 [1089, 1213, 1617]\n",
      "539 [750, 356, 858]\n",
      "540 [1204, 177593, 58559]\n",
      "541 [905, 1204, 246]\n",
      "542 [899, 1267, 1090]\n",
      "543 [260, 923, 1097]\n",
      "544 [44195, 1262, 541]\n",
      "545 [318, 912, 2959]\n",
      "546 [7153, 858, 750]\n",
      "547 [904, 110, 177593]\n",
      "548 [1262, 1233, 1204]\n",
      "549 [28, 750, 1089]\n",
      "550 [1208, 750, 908]\n",
      "551 [1204, 1197, 44199]\n",
      "552 [260, 858, 720]\n",
      "553 [1196, 318, 1204]\n",
      "554 [2959, 318, 741]\n",
      "555 [3949, 51255, 8958]\n",
      "556 [898, 318, 1199]\n",
      "557 [1204, 750, 908]\n",
      "558 [527, 3949, 5992]\n",
      "559 [2571, 246, 7371]\n",
      "560 [858, 1213, 1204]\n",
      "561 [1201, 1136, 1221]\n",
      "562 [904, 1276, 541]\n",
      "563 [898, 1213, 750]\n",
      "564 [260, 7153, 4993]\n",
      "565 [4993, 260, 858]\n",
      "566 [904, 858, 2324]\n",
      "567 [904, 44195, 318]\n",
      "568 [1210, 1204, 912]\n",
      "569 [318, 1261, 1204]\n",
      "570 [593, 1204, 1215]\n",
      "571 [912, 1204, 1225]\n",
      "572 [1237, 1041, 56782]\n",
      "573 [177593, 1204, 3429]\n",
      "574 [1258, 2959, 2788]\n",
      "575 [904, 7153, 912]\n",
      "576 [1204, 249, 1198]\n",
      "577 [898, 904, 2160]\n",
      "578 [2959, 1276, 1262]\n",
      "579 [1136, 260, 1206]\n",
      "580 [77455, 27773, 27611]\n",
      "581 [1204, 904, 1198]\n",
      "582 [1262, 912, 750]\n",
      "583 [858, 904, 1199]\n",
      "584 [99114, 162, 904]\n",
      "585 [260, 1198, 318]\n",
      "586 [356, 608, 1219]\n",
      "587 [1266, 6440, 55118]\n",
      "588 [1204, 1732, 5952]\n",
      "589 [858, 930, 1276]\n",
      "590 [4973, 5618, 1217]\n",
      "591 [318, 1204, 858]\n",
      "592 [177593, 912, 2959]\n",
      "593 [1208, 5618, 44195]\n",
      "594 [333, 923, 1198]\n",
      "595 [1204, 1221, 858]\n",
      "596 [1204, 38038, 2160]\n",
      "597 [318, 720, 3949]\n",
      "598 [912, 741, 3468]\n",
      "599 [955, 903, 527]\n",
      "600 [78499, 1387, 61240]\n",
      "601 [1233, 1204, 1041]\n",
      "602 [112552, 912, 1204]\n",
      "603 [750, 1288, 30749]\n",
      "604 [1204, 50, 1213]\n",
      "605 [2019, 750, 56782]\n",
      "606 [1213, 247, 1233]\n",
      "607 [223, 1584, 5816]\n",
      "608 [1204, 6, 3468]\n",
      "609 [1204, 912, 1196]\n",
      "610 [1266, 898, 2019]\n"
     ]
    }
   ],
   "source": [
    "from collections import defaultdict\n",
    "def get_top_n(predictions,n):\n",
    "    top_n = defaultdict(list)\n",
    "    for uid,iid,_,est,_ in predictions:\n",
    "        top_n[uid].append((iid,est))\n",
    "        \n",
    "    for uid,user_ratings in top_n.items():\n",
    "        user_ratings.sort(key=lambda x:x[1],reverse=True)\n",
    "        top_n[uid]=user_ratings[:n]\n",
    "    return top_n\n",
    "    pass\n",
    "top_n = get_top_n(predictions,n=3)\n",
    "for uid,user_ratings in top_n.items():\n",
    "    print(uid,[iid for (iid,rating)in user_ratings])"
   ]
  },
  {
   "cell_type": "code",
   "execution_count": null,
   "metadata": {},
   "outputs": [],
   "source": []
  }
 ],
 "metadata": {
  "colab": {
   "collapsed_sections": [],
   "name": "Movies Recommendation Engine - Coursera [Starter]",
   "provenance": [],
   "toc_visible": true
  },
  "kernelspec": {
   "display_name": "Python 3",
   "language": "python",
   "name": "python3"
  },
  "language_info": {
   "codemirror_mode": {
    "name": "ipython",
    "version": 3
   },
   "file_extension": ".py",
   "mimetype": "text/x-python",
   "name": "python",
   "nbconvert_exporter": "python",
   "pygments_lexer": "ipython3",
   "version": "3.6.9"
  }
 },
 "nbformat": 4,
 "nbformat_minor": 4
}
